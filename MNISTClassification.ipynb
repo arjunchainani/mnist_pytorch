{
 "cells": [
  {
   "cell_type": "code",
   "execution_count": 56,
   "metadata": {},
   "outputs": [],
   "source": [
    "import os\n",
    "import torch\n",
    "import torch.nn as nn\n",
    "from torch.optim import SGD\n",
    "import torch.nn.functional as F\n",
    "from torch.utils.data import Dataset, DataLoader\n",
    "import torchmetrics as metrics\n",
    "import torchvision\n",
    "import numpy as np\n",
    "import pandas as pd\n",
    "import matplotlib.pyplot as plt"
   ]
  },
  {
   "cell_type": "code",
   "execution_count": 16,
   "metadata": {},
   "outputs": [],
   "source": [
    "class LoadData(Dataset):\n",
    "    def __init__(self, path):\n",
    "        df = pd.read_csv(path)\n",
    "\n",
    "        self.x = torch.tensor(df[df.columns[1:]].values)\n",
    "        self.y = torch.tensor(df['label'].values)\n",
    "\n",
    "        self.x = self.x / 255.\n",
    "        self.y = F.one_hot(self.y.to(torch.int64), num_classes=10)\n",
    "\n",
    "    def __len__(self):\n",
    "        return self.x.shape[0]\n",
    "\n",
    "    def __getitem__(self, ix):\n",
    "        return self.x[ix], self.y[ix]"
   ]
  },
  {
   "cell_type": "code",
   "execution_count": 17,
   "metadata": {},
   "outputs": [],
   "source": [
    "train_ds = LoadData('./mnist_2/mnist_train.csv')\n",
    "test_ds = LoadData('./mnist_2/mnist_test.csv')"
   ]
  },
  {
   "cell_type": "code",
   "execution_count": 20,
   "metadata": {},
   "outputs": [],
   "source": [
    "xs, ys = train_ds[0:4]"
   ]
  },
  {
   "cell_type": "code",
   "execution_count": 23,
   "metadata": {},
   "outputs": [],
   "source": [
    "# Using the DataLoader class for the Dataset objects to create mini-batches of data\n",
    "train_dl = DataLoader(train_ds, batch_size=5)"
   ]
  },
  {
   "cell_type": "code",
   "execution_count": 24,
   "metadata": {},
   "outputs": [
    {
     "name": "stdout",
     "output_type": "stream",
     "text": [
      "torch.Size([5, 784])\n",
      "torch.Size([5, 10])\n"
     ]
    }
   ],
   "source": [
    "for x, y in train_dl:\n",
    "    print(x.shape)\n",
    "    print(y.shape)\n",
    "    break "
   ]
  },
  {
   "cell_type": "code",
   "execution_count": 25,
   "metadata": {},
   "outputs": [
    {
     "data": {
      "text/plain": [
       "12000"
      ]
     },
     "execution_count": 25,
     "metadata": {},
     "output_type": "execute_result"
    }
   ],
   "source": [
    "len(train_dl)"
   ]
  },
  {
   "cell_type": "code",
   "execution_count": 26,
   "metadata": {},
   "outputs": [],
   "source": [
    "loss = nn.CrossEntropyLoss()"
   ]
  },
  {
   "cell_type": "code",
   "execution_count": 31,
   "metadata": {},
   "outputs": [],
   "source": [
    "class NN(nn.Module):\n",
    "    def __init__(self):\n",
    "        super().__init__()\n",
    "        self.Layer1 = nn.Linear(784, 1000)\n",
    "        self.Layer2 = nn.Linear(1000, 500)\n",
    "        self.Layer3 = nn.Linear(500, 100)\n",
    "        self.Layer4 = nn.Linear(100, 10)\n",
    "        self.relu = nn.ReLU()\n",
    "    \n",
    "    def forward(self, x):\n",
    "        x = self.Layer1(x)\n",
    "        x = self.relu(x)\n",
    "        x = self.Layer2(x)\n",
    "        x = self.relu(x)\n",
    "        x = self.Layer3(x)\n",
    "        x = self.relu(x)\n",
    "        x = self.Layer4(x)\n",
    "        return x.squeeze()"
   ]
  },
  {
   "cell_type": "code",
   "execution_count": 32,
   "metadata": {},
   "outputs": [],
   "source": [
    "network = NN()"
   ]
  },
  {
   "cell_type": "code",
   "execution_count": 33,
   "metadata": {},
   "outputs": [
    {
     "data": {
      "text/plain": [
       "torch.Size([4, 784])"
      ]
     },
     "execution_count": 33,
     "metadata": {},
     "output_type": "execute_result"
    }
   ],
   "source": [
    "xs.shape"
   ]
  },
  {
   "cell_type": "code",
   "execution_count": 34,
   "metadata": {},
   "outputs": [
    {
     "data": {
      "text/plain": [
       "tensor([[-0.0448, -0.0308, -0.0307,  0.0535,  0.0792,  0.0982, -0.0278, -0.0007,\n",
       "          0.0159,  0.0798],\n",
       "        [-0.0457, -0.0243, -0.0249,  0.0496,  0.0684,  0.0976, -0.0212, -0.0126,\n",
       "          0.0167,  0.0916],\n",
       "        [-0.0477, -0.0371, -0.0247,  0.0527,  0.0835,  0.1023, -0.0231,  0.0026,\n",
       "          0.0169,  0.0744],\n",
       "        [-0.0510, -0.0270, -0.0346,  0.0499,  0.0823,  0.1074, -0.0345, -0.0040,\n",
       "          0.0173,  0.0684]], grad_fn=<SqueezeBackward0>)"
      ]
     },
     "execution_count": 34,
     "metadata": {},
     "output_type": "execute_result"
    }
   ],
   "source": [
    "# Feeding a small sample into the network before training\n",
    "network(xs)"
   ]
  },
  {
   "cell_type": "code",
   "execution_count": 35,
   "metadata": {},
   "outputs": [
    {
     "data": {
      "text/plain": [
       "tensor([[0, 0, 0, 0, 0, 1, 0, 0, 0, 0],\n",
       "        [1, 0, 0, 0, 0, 0, 0, 0, 0, 0],\n",
       "        [0, 0, 0, 0, 1, 0, 0, 0, 0, 0],\n",
       "        [0, 1, 0, 0, 0, 0, 0, 0, 0, 0]])"
      ]
     },
     "execution_count": 35,
     "metadata": {},
     "output_type": "execute_result"
    }
   ],
   "source": [
    "ys"
   ]
  },
  {
   "cell_type": "code",
   "execution_count": 37,
   "metadata": {},
   "outputs": [
    {
     "data": {
      "text/plain": [
       "tensor(2.2957, grad_fn=<DivBackward1>)"
      ]
     },
     "execution_count": 37,
     "metadata": {},
     "output_type": "execute_result"
    }
   ],
   "source": [
    "# Finding the loss between the current values of f(x) and y (before optimization)\n",
    "loss(network(xs.float()), ys.float())"
   ]
  },
  {
   "cell_type": "code",
   "execution_count": 42,
   "metadata": {},
   "outputs": [],
   "source": [
    "def train(dl, network, epochs):\n",
    "    # Defining our optimizer and loss functions\n",
    "    optimizer = SGD(network.parameters(), lr=0.01)\n",
    "    loss = nn.CrossEntropyLoss()\n",
    "\n",
    "    # Training loop\n",
    "    losses = []\n",
    "    epoch_data = []\n",
    "    for i in range(epochs):\n",
    "        print(f'Epoch {i+1}/{epochs}')\n",
    "        num_batches = len(dl)\n",
    "        for j, (x, y) in enumerate(dl):\n",
    "            # Optimizes the network using stochastic gradient descent\n",
    "            optimizer.zero_grad()\n",
    "            loss_val = loss(network(x).float(), y.float())\n",
    "            loss_val.backward()\n",
    "            optimizer.step()\n",
    "\n",
    "            # Saving our data\n",
    "            epoch_data.append(i + (j / num_batches))\n",
    "            losses.append(loss_val.item())\n",
    "    \n",
    "    return epoch_data, losses"
   ]
  },
  {
   "cell_type": "code",
   "execution_count": 43,
   "metadata": {},
   "outputs": [
    {
     "name": "stdout",
     "output_type": "stream",
     "text": [
      "Epoch 1/50\n",
      "Epoch 2/50\n",
      "Epoch 3/50\n",
      "Epoch 4/50\n",
      "Epoch 5/50\n",
      "Epoch 6/50\n",
      "Epoch 7/50\n",
      "Epoch 8/50\n",
      "Epoch 9/50\n",
      "Epoch 10/50\n",
      "Epoch 11/50\n",
      "Epoch 12/50\n",
      "Epoch 13/50\n",
      "Epoch 14/50\n",
      "Epoch 15/50\n",
      "Epoch 16/50\n",
      "Epoch 17/50\n",
      "Epoch 18/50\n",
      "Epoch 19/50\n",
      "Epoch 20/50\n",
      "Epoch 21/50\n",
      "Epoch 22/50\n",
      "Epoch 23/50\n",
      "Epoch 24/50\n",
      "Epoch 25/50\n",
      "Epoch 26/50\n",
      "Epoch 27/50\n",
      "Epoch 28/50\n",
      "Epoch 29/50\n",
      "Epoch 30/50\n",
      "Epoch 31/50\n",
      "Epoch 32/50\n",
      "Epoch 33/50\n",
      "Epoch 34/50\n",
      "Epoch 35/50\n",
      "Epoch 36/50\n",
      "Epoch 37/50\n",
      "Epoch 38/50\n",
      "Epoch 39/50\n",
      "Epoch 40/50\n",
      "Epoch 41/50\n",
      "Epoch 42/50\n",
      "Epoch 43/50\n",
      "Epoch 44/50\n",
      "Epoch 45/50\n",
      "Epoch 46/50\n",
      "Epoch 47/50\n",
      "Epoch 48/50\n",
      "Epoch 49/50\n",
      "Epoch 50/50\n"
     ]
    }
   ],
   "source": [
    "epochs, losses = train(train_dl, network=network, epochs=50)"
   ]
  },
  {
   "cell_type": "code",
   "execution_count": 45,
   "metadata": {},
   "outputs": [],
   "source": [
    "avg_epochs = np.asarray(epochs).reshape(50, -1).mean(axis=1)\n",
    "avg_losses = np.asarray(losses).reshape(50, -1).mean(axis=1)"
   ]
  },
  {
   "cell_type": "code",
   "execution_count": 46,
   "metadata": {},
   "outputs": [
    {
     "data": {
      "image/png": "[encoded data removed]",
      "text/plain": [
       "<Figure size 640x480 with 1 Axes>"
      ]
     },
     "metadata": {},
     "output_type": "display_data"
    }
   ],
   "source": [
    "plt.plot(avg_epochs, avg_losses)\n",
    "plt.xlabel('Epoch #')\n",
    "plt.ylabel('Cross Entropy Loss')\n",
    "plt.title('Loss per Epoch')\n",
    "plt.show()"
   ]
  },
  {
   "cell_type": "code",
   "execution_count": 47,
   "metadata": {},
   "outputs": [
    {
     "data": {
      "text/plain": [
       "tensor([0, 0, 0, 0, 0, 1, 0, 0, 0, 0])"
      ]
     },
     "execution_count": 47,
     "metadata": {},
     "output_type": "execute_result"
    }
   ],
   "source": [
    "# Testing out the model - This is what the output should look like for the first image\n",
    "train_ds[0][1]"
   ]
  },
  {
   "cell_type": "code",
   "execution_count": 48,
   "metadata": {},
   "outputs": [
    {
     "data": {
      "text/plain": [
       "tensor([-10.4199,  -0.5651,  -5.5957,  29.3368, -28.0482,  37.1929, -16.1917,\n",
       "         -9.6940,  -4.9392,   6.0861], grad_fn=<SqueezeBackward0>)"
      ]
     },
     "execution_count": 48,
     "metadata": {},
     "output_type": "execute_result"
    }
   ],
   "source": [
    "# This is what the output actually is\n",
    "network(train_ds[0][0])"
   ]
  },
  {
   "cell_type": "code",
   "execution_count": 52,
   "metadata": {},
   "outputs": [
    {
     "data": {
      "text/plain": [
       "tensor(5)"
      ]
     },
     "execution_count": 52,
     "metadata": {},
     "output_type": "execute_result"
    }
   ],
   "source": [
    "# To get the prediction, we take the index of the highest point of the probability density function\n",
    "torch.argmax(network(train_ds[0][0]))"
   ]
  },
  {
   "cell_type": "code",
   "execution_count": 55,
   "metadata": {},
   "outputs": [
    {
     "name": "stdout",
     "output_type": "stream",
     "text": [
      "TEST #0 - Predicted: 7. Actual: 7\n",
      "TEST #1 - Predicted: 2. Actual: 2\n",
      "TEST #2 - Predicted: 1. Actual: 1\n",
      "TEST #3 - Predicted: 0. Actual: 0\n",
      "TEST #4 - Predicted: 4. Actual: 4\n",
      "TEST #5 - Predicted: 1. Actual: 1\n",
      "TEST #6 - Predicted: 4. Actual: 4\n",
      "TEST #7 - Predicted: 9. Actual: 9\n",
      "TEST #8 - Predicted: 5. Actual: 5\n",
      "TEST #9 - Predicted: 9. Actual: 9\n",
      "TEST #10 - Predicted: 0. Actual: 0\n",
      "TEST #11 - Predicted: 6. Actual: 6\n",
      "TEST #12 - Predicted: 9. Actual: 9\n",
      "TEST #13 - Predicted: 0. Actual: 0\n",
      "TEST #14 - Predicted: 1. Actual: 1\n",
      "TEST #15 - Predicted: 5. Actual: 5\n",
      "TEST #16 - Predicted: 9. Actual: 9\n",
      "TEST #17 - Predicted: 7. Actual: 7\n",
      "TEST #18 - Predicted: 3. Actual: 3\n",
      "TEST #19 - Predicted: 4. Actual: 4\n",
      "TEST #20 - Predicted: 9. Actual: 9\n",
      "TEST #21 - Predicted: 6. Actual: 6\n",
      "TEST #22 - Predicted: 6. Actual: 6\n",
      "TEST #23 - Predicted: 5. Actual: 5\n",
      "TEST #24 - Predicted: 4. Actual: 4\n",
      "TEST #25 - Predicted: 0. Actual: 0\n",
      "TEST #26 - Predicted: 7. Actual: 7\n",
      "TEST #27 - Predicted: 4. Actual: 4\n",
      "TEST #28 - Predicted: 0. Actual: 0\n",
      "TEST #29 - Predicted: 1. Actual: 1\n",
      "TEST #30 - Predicted: 3. Actual: 3\n",
      "TEST #31 - Predicted: 1. Actual: 1\n",
      "TEST #32 - Predicted: 3. Actual: 3\n",
      "TEST #33 - Predicted: 4. Actual: 4\n",
      "TEST #34 - Predicted: 7. Actual: 7\n",
      "TEST #35 - Predicted: 2. Actual: 2\n",
      "TEST #36 - Predicted: 7. Actual: 7\n",
      "TEST #37 - Predicted: 1. Actual: 1\n",
      "TEST #38 - Predicted: 2. Actual: 2\n",
      "TEST #39 - Predicted: 1. Actual: 1\n",
      "TEST #40 - Predicted: 1. Actual: 1\n",
      "TEST #41 - Predicted: 7. Actual: 7\n",
      "TEST #42 - Predicted: 4. Actual: 4\n",
      "TEST #43 - Predicted: 2. Actual: 2\n",
      "TEST #44 - Predicted: 3. Actual: 3\n",
      "TEST #45 - Predicted: 5. Actual: 5\n",
      "TEST #46 - Predicted: 1. Actual: 1\n",
      "TEST #47 - Predicted: 2. Actual: 2\n",
      "TEST #48 - Predicted: 4. Actual: 4\n",
      "TEST #49 - Predicted: 4. Actual: 4\n"
     ]
    }
   ],
   "source": [
    "# Time to test on the test set\n",
    "xs, ys = test_ds[:1000]\n",
    "y_hats = torch.argmax(network(xs), axis=1)\n",
    "\n",
    "for i in range(50):\n",
    "    print(f'TEST #{i} - Predicted: {y_hats[i]}. Actual: {torch.argmax(ys[i])}')"
   ]
  },
  {
   "cell_type": "code",
   "execution_count": 60,
   "metadata": {},
   "outputs": [
    {
     "data": {
      "text/plain": [
       "tensor(0.9820)"
      ]
     },
     "execution_count": 60,
     "metadata": {},
     "output_type": "execute_result"
    }
   ],
   "source": [
    "# Final test accuracy\n",
    "ys = torch.argmax(ys, axis=1)\n",
    "\n",
    "test_acc = metrics.Accuracy(task='multiclass', num_classes=10)\n",
    "test_acc(y_hats, ys)"
   ]
  }
 ],
 "metadata": {
  "kernelspec": {
   "display_name": "Python 3",
   "language": "python",
   "name": "python3"
  },
  "language_info": {
   "codemirror_mode": {
    "name": "ipython",
    "version": 3
   },
   "file_extension": ".py",
   "mimetype": "text/x-python",
   "name": "python",
   "nbconvert_exporter": "python",
   "pygments_lexer": "ipython3",
   "version": "3.10.11"
  },
  "orig_nbformat": 4
 },
 "nbformat": 4,
 "nbformat_minor": 2
}
